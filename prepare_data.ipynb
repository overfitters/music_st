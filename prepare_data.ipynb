{
 "cells": [
  {
   "cell_type": "code",
   "execution_count": 1,
   "id": "ab828a05-9774-4b6a-b078-6e5696a051e4",
   "metadata": {},
   "outputs": [],
   "source": [
    "from pathlib import Path\n",
    "import glob\n",
    "import os\n",
    "\n",
    "from sklearn.model_selection import train_test_split\n",
    "from pydub.exceptions import CouldntDecodeError\n",
    "from pydub import AudioSegment"
   ]
  },
  {
   "cell_type": "code",
   "execution_count": 2,
   "id": "9759e4e0-b263-4d66-a85a-dfb0d5e528c0",
   "metadata": {},
   "outputs": [],
   "source": [
    "DATASET = Path(\"./fma/\")"
   ]
  },
  {
   "cell_type": "code",
   "execution_count": 3,
   "id": "42e50e1e-760a-4ba6-9b19-6dd9c5480d5a",
   "metadata": {},
   "outputs": [],
   "source": [
    "all_files = list(DATASET.glob(\"**/*.mp3\"))"
   ]
  },
  {
   "cell_type": "code",
   "execution_count": 16,
   "id": "a68bcf4c-749c-419a-9ec6-72b698071d09",
   "metadata": {},
   "outputs": [
    {
     "name": "stdout",
     "output_type": "stream",
     "text": [
      "fma/099/099134.mp3\n"
     ]
    }
   ],
   "source": [
    "# testing for invalid files\n",
    "invalid_files = []\n",
    "for file in all_files:\n",
    "    try:\n",
    "        AudioSegment.from_file(file)\n",
    "    except CouldntDecodeError:\n",
    "        invalid_files.append(file)\n",
    "        print(f\"{file}\")\n",
    "for file in invalid_files:\n",
    "    os.remove(file)"
   ]
  },
  {
   "cell_type": "code",
   "execution_count": 4,
   "id": "2ad2250f-303a-4c0f-abb8-f307a33f26e6",
   "metadata": {},
   "outputs": [],
   "source": [
    "train_files, test_files = train_test_split(all_files, test_size=0.1, random_state=0)"
   ]
  },
  {
   "cell_type": "code",
   "execution_count": 5,
   "id": "91792578-54a9-4244-bf39-0cc82b48b00b",
   "metadata": {},
   "outputs": [
    {
     "data": {
      "text/plain": [
       "(7197, 800)"
      ]
     },
     "execution_count": 5,
     "metadata": {},
     "output_type": "execute_result"
    }
   ],
   "source": [
    "len(train_files), len(test_files)"
   ]
  },
  {
   "cell_type": "code",
   "execution_count": 6,
   "id": "285dd5f2-8f71-4559-adbc-27e2b7189aa4",
   "metadata": {},
   "outputs": [],
   "source": [
    "def split_and_save_file(file, save_to):\n",
    "    audio = AudioSegment.from_file(file)\n",
    "    total_duration = len(audio)\n",
    "    \n",
    "    first_12_secs = audio[:10000]  # 10000 milliseconds = 10 seconds\n",
    "    last_12_secs = audio[max(0, total_duration - 10000):]\n",
    "\n",
    "    base_filename = file.parts[-1].split(\".\")[0]\n",
    "    first_output_path = os.path.join(save_to, f\"{base_filename}_s1.mp3\")\n",
    "    last_output_path = os.path.join(save_to, f\"{base_filename}_s2.mp3\")\n",
    "    \n",
    "    # Export segments\n",
    "    first_12_secs.export(first_output_path, format=\"mp3\")\n",
    "    last_12_secs.export(last_output_path, format=\"mp3\")\n",
    "    return f\"{base_filename}_s1.mp3\", f\"{base_filename}_s2.mp3\""
   ]
  },
  {
   "cell_type": "code",
   "execution_count": 7,
   "id": "ed7a7cfa-1359-4009-8a08-4b3d06542747",
   "metadata": {},
   "outputs": [],
   "source": [
    "train_path= Path(\"./train_pairs\")\n",
    "val_path = Path(\"./val_pairs\")\n",
    "\n",
    "if not train_path.exists():\n",
    "    os.mkdir(train_path)\n",
    "\n",
    "if not val_path.exists():\n",
    "    os.mkdir(val_path)"
   ]
  },
  {
   "cell_type": "code",
   "execution_count": 8,
   "id": "ea7d218d-9295-4077-a3a0-52c9af0fed9e",
   "metadata": {},
   "outputs": [
    {
     "name": "stdout",
     "output_type": "stream",
     "text": [
      "[0/7197]\n",
      "[200/7197]\n",
      "[400/7197]\n",
      "[600/7197]\n",
      "[800/7197]\n",
      "[1000/7197]\n",
      "[1200/7197]\n",
      "[1400/7197]\n",
      "[1600/7197]\n",
      "[1800/7197]\n",
      "[2000/7197]\n",
      "[2200/7197]\n",
      "[2400/7197]\n",
      "[2600/7197]\n",
      "[2800/7197]\n",
      "[3000/7197]\n",
      "[3200/7197]\n",
      "[3400/7197]\n",
      "[3600/7197]\n",
      "[3800/7197]\n",
      "[4000/7197]\n",
      "[4200/7197]\n",
      "[4400/7197]\n",
      "[4600/7197]\n",
      "[4800/7197]\n",
      "[5000/7197]\n",
      "[5200/7197]\n",
      "[5400/7197]\n",
      "[5600/7197]\n",
      "[5800/7197]\n",
      "[6000/7197]\n",
      "[6200/7197]\n",
      "[6400/7197]\n",
      "[6600/7197]\n",
      "[6800/7197]\n",
      "[7000/7197]\n"
     ]
    }
   ],
   "source": [
    "pair_data = []\n",
    "for i, file in enumerate(train_files):\n",
    "    s1, s2 = split_and_save_file(file, train_path)\n",
    "    pair_data.append((s1, s2))\n",
    "    if i % 200 == 0: \n",
    "        print(f\"[{i}/{len(train_files)}]\")\n"
   ]
  },
  {
   "cell_type": "code",
   "execution_count": 12,
   "id": "eea4b2ff-011d-4cdf-93e5-8d8413e49e4a",
   "metadata": {},
   "outputs": [],
   "source": [
    "with open(train_path / \"info.txt\", \"w\") as f:\n",
    "    f.write(\"\\n\".join(\"\\t\".join(segments) for segments in pair_data))"
   ]
  },
  {
   "cell_type": "code",
   "execution_count": 10,
   "id": "2257af29-402b-4065-900a-7f0d331752e8",
   "metadata": {},
   "outputs": [
    {
     "name": "stdout",
     "output_type": "stream",
     "text": [
      "[0/800]\n",
      "[200/800]\n",
      "[400/800]\n",
      "[600/800]\n"
     ]
    }
   ],
   "source": [
    "t_pair_data = []\n",
    "for i, file in enumerate(test_files):\n",
    "    s1, s2 = split_and_save_file(file, val_path)\n",
    "    t_pair_data.append((s1, s2))\n",
    "    if i % 200 == 0: \n",
    "        print(f\"[{i}/{len(test_files)}]\")"
   ]
  },
  {
   "cell_type": "code",
   "execution_count": 11,
   "id": "7a1ff751-e32d-415c-9c08-5bdb4d15de90",
   "metadata": {},
   "outputs": [],
   "source": [
    "with open(val_path / \"info.txt\", \"w\") as f:\n",
    "    f.write(\"\\n\".join(\"\\t\".join(segments) for segments in t_pair_data))"
   ]
  },
  {
   "cell_type": "code",
   "execution_count": null,
   "id": "8dcf0cdd-d803-4a81-bbec-f6823ddb6128",
   "metadata": {},
   "outputs": [],
   "source": []
  }
 ],
 "metadata": {
  "kernelspec": {
   "display_name": "Python 3 (ipykernel)",
   "language": "python",
   "name": "python3"
  },
  "language_info": {
   "codemirror_mode": {
    "name": "ipython",
    "version": 3
   },
   "file_extension": ".py",
   "mimetype": "text/x-python",
   "name": "python",
   "nbconvert_exporter": "python",
   "pygments_lexer": "ipython3",
   "version": "3.12.6"
  }
 },
 "nbformat": 4,
 "nbformat_minor": 5
}

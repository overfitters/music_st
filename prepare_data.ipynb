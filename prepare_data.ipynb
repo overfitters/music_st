{
 "cells": [
  {
   "cell_type": "code",
   "execution_count": 24,
   "id": "ab828a05-9774-4b6a-b078-6e5696a051e4",
   "metadata": {},
   "outputs": [],
   "source": [
    "from pathlib import Path\n",
    "import glob\n",
    "import os\n",
    "import random\n",
    "\n",
    "from sklearn.model_selection import train_test_split\n",
    "from pydub.exceptions import CouldntDecodeError\n",
    "from pydub import AudioSegment"
   ]
  },
  {
   "cell_type": "code",
   "execution_count": 25,
   "id": "9759e4e0-b263-4d66-a85a-dfb0d5e528c0",
   "metadata": {},
   "outputs": [],
   "source": [
    "DATASET = Path(\"./fma/\")"
   ]
  },
  {
   "cell_type": "code",
   "execution_count": 26,
   "id": "42e50e1e-760a-4ba6-9b19-6dd9c5480d5a",
   "metadata": {},
   "outputs": [],
   "source": [
    "all_files = list(DATASET.glob(\"**/*.mp3\"))"
   ]
  },
  {
   "cell_type": "code",
   "execution_count": 16,
   "id": "a68bcf4c-749c-419a-9ec6-72b698071d09",
   "metadata": {},
   "outputs": [
    {
     "name": "stdout",
     "output_type": "stream",
     "text": [
      "fma/099/099134.mp3\n"
     ]
    }
   ],
   "source": [
    "# testing for invalid files\n",
    "invalid_files = []\n",
    "for file in all_files:\n",
    "    try:\n",
    "        AudioSegment.from_file(file)\n",
    "    except CouldntDecodeError:\n",
    "        invalid_files.append(file)\n",
    "        print(f\"{file}\")\n",
    "for file in invalid_files:\n",
    "    os.remove(file)"
   ]
  },
  {
   "cell_type": "code",
   "execution_count": 27,
   "id": "2ad2250f-303a-4c0f-abb8-f307a33f26e6",
   "metadata": {},
   "outputs": [],
   "source": [
    "train_files, test_files = train_test_split(all_files, test_size=0.1, random_state=0)"
   ]
  },
  {
   "cell_type": "code",
   "execution_count": 28,
   "id": "91792578-54a9-4244-bf39-0cc82b48b00b",
   "metadata": {},
   "outputs": [
    {
     "data": {
      "text/plain": [
       "(7197, 800)"
      ]
     },
     "execution_count": 28,
     "metadata": {},
     "output_type": "execute_result"
    }
   ],
   "source": [
    "len(train_files), len(test_files)"
   ]
  },
  {
   "cell_type": "code",
   "execution_count": 16,
   "id": "285dd5f2-8f71-4559-adbc-27e2b7189aa4",
   "metadata": {},
   "outputs": [],
   "source": [
    "def split_and_save_file(file, save_to):\n",
    "    audio = AudioSegment.from_file(file)\n",
    "    total_duration = len(audio)\n",
    "    \n",
    "    first_10_secs = audio[:10000]  # 10000 milliseconds = 10 seconds\n",
    "    last_10_secs = audio[max(0, total_duration - 10000):]\n",
    "\n",
    "    base_filename = file.parts[-1].split(\".\")[0]\n",
    "    first_output_path = os.path.join(save_to, f\"{base_filename}_s1.mp3\")\n",
    "    last_output_path = os.path.join(save_to, f\"{base_filename}_s2.mp3\")\n",
    "    \n",
    "    # Export segments\n",
    "    first_10_secs.export(first_output_path, format=\"mp3\")\n",
    "    last_10_secs.export(last_output_path, format=\"mp3\")\n",
    "    return f\"{base_filename}_s1.mp3\", f\"{base_filename}_s2.mp3\""
   ]
  },
  {
   "cell_type": "code",
   "execution_count": 17,
   "id": "a85b8365-8a89-4876-8aa8-4551865825cd",
   "metadata": {},
   "outputs": [],
   "source": [
    "def split_and_save_file_triplet(file, save_to):\n",
    "    audio = AudioSegment.from_file(file)\n",
    "    total_duration = len(audio)\n",
    "    \n",
    "    first_10_secs = audio[:10000]  # 10000 milliseconds = 10 seconds\n",
    "    second_10_secs = audio[10000: total_duration - 10000]\n",
    "    last_10_secs = audio[max(0, total_duration - 10000):]\n",
    "\n",
    "    base_filename = file.parts[-1].split(\".\")[0]\n",
    "    first_output_path = os.path.join(save_to, f\"{base_filename}_s1.mp3\")\n",
    "    second_output_path = os.path.join(save_to, f\"{base_filename}_s2.mp3\")\n",
    "    last_output_path = os.path.join(save_to, f\"{base_filename}_s3.mp3\")\n",
    "    \n",
    "    # Export segments\n",
    "    first_10_secs.export(first_output_path, format=\"mp3\")\n",
    "    second_10_secs.export(second_output_path, format=\"mp3\")\n",
    "    last_10_secs.export(last_output_path, format=\"mp3\")\n",
    "    return f\"{base_filename}_s1.mp3\", f\"{base_filename}_s2.mp3\", f\"{base_filename}_s3.mp3\""
   ]
  },
  {
   "cell_type": "code",
   "execution_count": 7,
   "id": "ed7a7cfa-1359-4009-8a08-4b3d06542747",
   "metadata": {},
   "outputs": [],
   "source": [
    "train_path= Path(\"./train_pairs\")\n",
    "val_path = Path(\"./val_pairs\")\n",
    "\n",
    "if not train_path.exists():\n",
    "    os.mkdir(train_path)\n",
    "\n",
    "if not val_path.exists():\n",
    "    os.mkdir(val_path)"
   ]
  },
  {
   "cell_type": "code",
   "execution_count": 8,
   "id": "ea7d218d-9295-4077-a3a0-52c9af0fed9e",
   "metadata": {},
   "outputs": [
    {
     "name": "stdout",
     "output_type": "stream",
     "text": [
      "[0/7197]\n",
      "[200/7197]\n",
      "[400/7197]\n",
      "[600/7197]\n",
      "[800/7197]\n",
      "[1000/7197]\n",
      "[1200/7197]\n",
      "[1400/7197]\n",
      "[1600/7197]\n",
      "[1800/7197]\n",
      "[2000/7197]\n",
      "[2200/7197]\n",
      "[2400/7197]\n",
      "[2600/7197]\n",
      "[2800/7197]\n",
      "[3000/7197]\n",
      "[3200/7197]\n",
      "[3400/7197]\n",
      "[3600/7197]\n",
      "[3800/7197]\n",
      "[4000/7197]\n",
      "[4200/7197]\n",
      "[4400/7197]\n",
      "[4600/7197]\n",
      "[4800/7197]\n",
      "[5000/7197]\n",
      "[5200/7197]\n",
      "[5400/7197]\n",
      "[5600/7197]\n",
      "[5800/7197]\n",
      "[6000/7197]\n",
      "[6200/7197]\n",
      "[6400/7197]\n",
      "[6600/7197]\n",
      "[6800/7197]\n",
      "[7000/7197]\n"
     ]
    }
   ],
   "source": [
    "pair_data = []\n",
    "for i, file in enumerate(train_files):\n",
    "    s1, s2 = split_and_save_file(file, train_path)\n",
    "    pair_data.append((s1, s2))\n",
    "    if i % 200 == 0: \n",
    "        print(f\"[{i}/{len(train_files)}]\")\n"
   ]
  },
  {
   "cell_type": "code",
   "execution_count": 12,
   "id": "eea4b2ff-011d-4cdf-93e5-8d8413e49e4a",
   "metadata": {},
   "outputs": [],
   "source": [
    "with open(train_path / \"info.txt\", \"w\") as f:\n",
    "    f.write(\"\\n\".join(\"\\t\".join(segments) for segments in pair_data))"
   ]
  },
  {
   "cell_type": "code",
   "execution_count": 10,
   "id": "2257af29-402b-4065-900a-7f0d331752e8",
   "metadata": {},
   "outputs": [
    {
     "name": "stdout",
     "output_type": "stream",
     "text": [
      "[0/800]\n",
      "[200/800]\n",
      "[400/800]\n",
      "[600/800]\n"
     ]
    }
   ],
   "source": [
    "t_pair_data = []\n",
    "for i, file in enumerate(test_files):\n",
    "    s1, s2 = split_and_save_file(file, val_path)\n",
    "    t_pair_data.append((s1, s2))\n",
    "    if i % 200 == 0: \n",
    "        print(f\"[{i}/{len(test_files)}]\")"
   ]
  },
  {
   "cell_type": "code",
   "execution_count": 11,
   "id": "7a1ff751-e32d-415c-9c08-5bdb4d15de90",
   "metadata": {},
   "outputs": [],
   "source": [
    "with open(val_path / \"info.txt\", \"w\") as f:\n",
    "    f.write(\"\\n\".join(\"\\t\".join(segments) for segments in t_pair_data))"
   ]
  },
  {
   "cell_type": "code",
   "execution_count": 10,
   "id": "8dcf0cdd-d803-4a81-bbec-f6823ddb6128",
   "metadata": {},
   "outputs": [],
   "source": [
    "train_path_3 = Path(\"./train_pairs_trip\")\n",
    "val_path_3 = Path(\"./val_pairs_trip\")\n",
    "\n",
    "if not train_path_3.exists():\n",
    "    os.mkdir(train_path_3)\n",
    "\n",
    "if not val_path_3.exists():\n",
    "    os.mkdir(val_path_3)"
   ]
  },
  {
   "cell_type": "code",
   "execution_count": 21,
   "id": "2555813b-9d27-4305-a411-a155c1ede930",
   "metadata": {},
   "outputs": [
    {
     "name": "stdout",
     "output_type": "stream",
     "text": [
      "[0/7197]\n"
     ]
    },
    {
     "ename": "KeyboardInterrupt",
     "evalue": "",
     "output_type": "error",
     "traceback": [
      "\u001b[0;31m---------------------------------------------------------------------------\u001b[0m",
      "\u001b[0;31mKeyboardInterrupt\u001b[0m                         Traceback (most recent call last)",
      "Cell \u001b[0;32mIn[21], line 3\u001b[0m\n\u001b[1;32m      1\u001b[0m pair_data_3 \u001b[38;5;241m=\u001b[39m []\n\u001b[1;32m      2\u001b[0m \u001b[38;5;28;01mfor\u001b[39;00m i, file \u001b[38;5;129;01min\u001b[39;00m \u001b[38;5;28menumerate\u001b[39m(train_files):\n\u001b[0;32m----> 3\u001b[0m     s1, s2, s3 \u001b[38;5;241m=\u001b[39m \u001b[43msplit_and_save_file_triplet\u001b[49m\u001b[43m(\u001b[49m\u001b[43mfile\u001b[49m\u001b[43m,\u001b[49m\u001b[43m \u001b[49m\u001b[43mtrain_path_3\u001b[49m\u001b[43m)\u001b[49m\n\u001b[1;32m      4\u001b[0m     pair_data_3\u001b[38;5;241m.\u001b[39mextend([(s1, s2), (s2, s3), (s3, s1)])\n\u001b[1;32m      5\u001b[0m     \u001b[38;5;28;01mif\u001b[39;00m i \u001b[38;5;241m%\u001b[39m \u001b[38;5;241m200\u001b[39m \u001b[38;5;241m==\u001b[39m \u001b[38;5;241m0\u001b[39m: \n",
      "Cell \u001b[0;32mIn[17], line 16\u001b[0m, in \u001b[0;36msplit_and_save_file_triplet\u001b[0;34m(file, save_to)\u001b[0m\n\u001b[1;32m     14\u001b[0m \u001b[38;5;66;03m# Export segments\u001b[39;00m\n\u001b[1;32m     15\u001b[0m first_10_secs\u001b[38;5;241m.\u001b[39mexport(first_output_path, \u001b[38;5;28mformat\u001b[39m\u001b[38;5;241m=\u001b[39m\u001b[38;5;124m\"\u001b[39m\u001b[38;5;124mmp3\u001b[39m\u001b[38;5;124m\"\u001b[39m)\n\u001b[0;32m---> 16\u001b[0m \u001b[43msecond_10_secs\u001b[49m\u001b[38;5;241;43m.\u001b[39;49m\u001b[43mexport\u001b[49m\u001b[43m(\u001b[49m\u001b[43msecond_output_path\u001b[49m\u001b[43m,\u001b[49m\u001b[43m \u001b[49m\u001b[38;5;28;43mformat\u001b[39;49m\u001b[38;5;241;43m=\u001b[39;49m\u001b[38;5;124;43m\"\u001b[39;49m\u001b[38;5;124;43mmp3\u001b[39;49m\u001b[38;5;124;43m\"\u001b[39;49m\u001b[43m)\u001b[49m\n\u001b[1;32m     17\u001b[0m last_10_secs\u001b[38;5;241m.\u001b[39mexport(last_output_path, \u001b[38;5;28mformat\u001b[39m\u001b[38;5;241m=\u001b[39m\u001b[38;5;124m\"\u001b[39m\u001b[38;5;124mmp3\u001b[39m\u001b[38;5;124m\"\u001b[39m)\n\u001b[1;32m     18\u001b[0m \u001b[38;5;28;01mreturn\u001b[39;00m \u001b[38;5;124mf\u001b[39m\u001b[38;5;124m\"\u001b[39m\u001b[38;5;132;01m{\u001b[39;00mbase_filename\u001b[38;5;132;01m}\u001b[39;00m\u001b[38;5;124m_s1.mp3\u001b[39m\u001b[38;5;124m\"\u001b[39m, \u001b[38;5;124mf\u001b[39m\u001b[38;5;124m\"\u001b[39m\u001b[38;5;132;01m{\u001b[39;00mbase_filename\u001b[38;5;132;01m}\u001b[39;00m\u001b[38;5;124m_s2.mp3\u001b[39m\u001b[38;5;124m\"\u001b[39m, \u001b[38;5;124mf\u001b[39m\u001b[38;5;124m\"\u001b[39m\u001b[38;5;132;01m{\u001b[39;00mbase_filename\u001b[38;5;132;01m}\u001b[39;00m\u001b[38;5;124m_s3.mp3\u001b[39m\u001b[38;5;124m\"\u001b[39m\n",
      "File \u001b[0;32m~/courses/dl/project/music_st/.venv/lib/python3.12/site-packages/pydub/audio_segment.py:964\u001b[0m, in \u001b[0;36mexport\u001b[0;34m(self, out_f, format, codec, bitrate, parameters, tags, id3v2_version, cover)\u001b[0m\n",
      "File \u001b[0;32m~/.local/share/uv/python/cpython-3.12.6-linux-x86_64-gnu/lib/python3.12/subprocess.py:1209\u001b[0m, in \u001b[0;36mPopen.communicate\u001b[0;34m(self, input, timeout)\u001b[0m\n\u001b[1;32m   1206\u001b[0m     endtime \u001b[38;5;241m=\u001b[39m \u001b[38;5;28;01mNone\u001b[39;00m\n\u001b[1;32m   1208\u001b[0m \u001b[38;5;28;01mtry\u001b[39;00m:\n\u001b[0;32m-> 1209\u001b[0m     stdout, stderr \u001b[38;5;241m=\u001b[39m \u001b[38;5;28;43mself\u001b[39;49m\u001b[38;5;241;43m.\u001b[39;49m\u001b[43m_communicate\u001b[49m\u001b[43m(\u001b[49m\u001b[38;5;28;43minput\u001b[39;49m\u001b[43m,\u001b[49m\u001b[43m \u001b[49m\u001b[43mendtime\u001b[49m\u001b[43m,\u001b[49m\u001b[43m \u001b[49m\u001b[43mtimeout\u001b[49m\u001b[43m)\u001b[49m\n\u001b[1;32m   1210\u001b[0m \u001b[38;5;28;01mexcept\u001b[39;00m \u001b[38;5;167;01mKeyboardInterrupt\u001b[39;00m:\n\u001b[1;32m   1211\u001b[0m     \u001b[38;5;66;03m# https://bugs.python.org/issue25942\u001b[39;00m\n\u001b[1;32m   1212\u001b[0m     \u001b[38;5;66;03m# See the detailed comment in .wait().\u001b[39;00m\n\u001b[1;32m   1213\u001b[0m     \u001b[38;5;28;01mif\u001b[39;00m timeout \u001b[38;5;129;01mis\u001b[39;00m \u001b[38;5;129;01mnot\u001b[39;00m \u001b[38;5;28;01mNone\u001b[39;00m:\n",
      "File \u001b[0;32m~/.local/share/uv/python/cpython-3.12.6-linux-x86_64-gnu/lib/python3.12/subprocess.py:2115\u001b[0m, in \u001b[0;36mPopen._communicate\u001b[0;34m(self, input, endtime, orig_timeout)\u001b[0m\n\u001b[1;32m   2108\u001b[0m     \u001b[38;5;28mself\u001b[39m\u001b[38;5;241m.\u001b[39m_check_timeout(endtime, orig_timeout,\n\u001b[1;32m   2109\u001b[0m                         stdout, stderr,\n\u001b[1;32m   2110\u001b[0m                         skip_check_and_raise\u001b[38;5;241m=\u001b[39m\u001b[38;5;28;01mTrue\u001b[39;00m)\n\u001b[1;32m   2111\u001b[0m     \u001b[38;5;28;01mraise\u001b[39;00m \u001b[38;5;167;01mRuntimeError\u001b[39;00m(  \u001b[38;5;66;03m# Impossible :)\u001b[39;00m\n\u001b[1;32m   2112\u001b[0m         \u001b[38;5;124m'\u001b[39m\u001b[38;5;124m_check_timeout(..., skip_check_and_raise=True) \u001b[39m\u001b[38;5;124m'\u001b[39m\n\u001b[1;32m   2113\u001b[0m         \u001b[38;5;124m'\u001b[39m\u001b[38;5;124mfailed to raise TimeoutExpired.\u001b[39m\u001b[38;5;124m'\u001b[39m)\n\u001b[0;32m-> 2115\u001b[0m ready \u001b[38;5;241m=\u001b[39m \u001b[43mselector\u001b[49m\u001b[38;5;241;43m.\u001b[39;49m\u001b[43mselect\u001b[49m\u001b[43m(\u001b[49m\u001b[43mtimeout\u001b[49m\u001b[43m)\u001b[49m\n\u001b[1;32m   2116\u001b[0m \u001b[38;5;28mself\u001b[39m\u001b[38;5;241m.\u001b[39m_check_timeout(endtime, orig_timeout, stdout, stderr)\n\u001b[1;32m   2118\u001b[0m \u001b[38;5;66;03m# XXX Rewrite these to use non-blocking I/O on the file\u001b[39;00m\n\u001b[1;32m   2119\u001b[0m \u001b[38;5;66;03m# objects; they are no longer using C stdio!\u001b[39;00m\n",
      "File \u001b[0;32m~/.local/share/uv/python/cpython-3.12.6-linux-x86_64-gnu/lib/python3.12/selectors.py:415\u001b[0m, in \u001b[0;36m_PollLikeSelector.select\u001b[0;34m(self, timeout)\u001b[0m\n\u001b[1;32m    413\u001b[0m ready \u001b[38;5;241m=\u001b[39m []\n\u001b[1;32m    414\u001b[0m \u001b[38;5;28;01mtry\u001b[39;00m:\n\u001b[0;32m--> 415\u001b[0m     fd_event_list \u001b[38;5;241m=\u001b[39m \u001b[38;5;28;43mself\u001b[39;49m\u001b[38;5;241;43m.\u001b[39;49m\u001b[43m_selector\u001b[49m\u001b[38;5;241;43m.\u001b[39;49m\u001b[43mpoll\u001b[49m\u001b[43m(\u001b[49m\u001b[43mtimeout\u001b[49m\u001b[43m)\u001b[49m\n\u001b[1;32m    416\u001b[0m \u001b[38;5;28;01mexcept\u001b[39;00m \u001b[38;5;167;01mInterruptedError\u001b[39;00m:\n\u001b[1;32m    417\u001b[0m     \u001b[38;5;28;01mreturn\u001b[39;00m ready\n",
      "\u001b[0;31mKeyboardInterrupt\u001b[0m: "
     ]
    }
   ],
   "source": [
    "pair_data_3 = []\n",
    "for i, file in enumerate(train_files):\n",
    "    s1, s2, s3 = split_and_save_file_triplet(file, train_path_3)\n",
    "    pair_data_3.extend([(s1, s2), (s2, s3), (s3, s1)])\n",
    "    if i % 200 == 0: \n",
    "        print(f\"[{i}/{len(train_files)}]\")"
   ]
  },
  {
   "cell_type": "code",
   "execution_count": 22,
   "id": "7e5b05ba-1436-4c71-a933-50acb33355e8",
   "metadata": {},
   "outputs": [],
   "source": [
    "random.shuffle(pair_data_3)\n",
    "with open(train_path_3 / \"info.txt\", \"w\") as f:\n",
    "    f.write(\"\\n\".join(\"\\t\".join(segments) for segments in pair_data_3))"
   ]
  },
  {
   "cell_type": "code",
   "execution_count": 30,
   "id": "03ab55ad-5588-4fa6-9984-25dfe6dd2410",
   "metadata": {},
   "outputs": [
    {
     "name": "stdout",
     "output_type": "stream",
     "text": [
      "[0/800]\n",
      "[100/800]\n",
      "[200/800]\n",
      "[300/800]\n",
      "[400/800]\n",
      "[500/800]\n",
      "[600/800]\n",
      "[700/800]\n"
     ]
    }
   ],
   "source": [
    "pair_data_t_3 = []\n",
    "for i, file in enumerate(test_files):\n",
    "    s1, s2, s3 = split_and_save_file_triplet(file, val_path_3)\n",
    "    pair_data_t_3.extend([(s1, s2), (s2, s3), (s3, s1)])\n",
    "    if i % 100 == 0: \n",
    "        print(f\"[{i}/{len(test_files)}]\")"
   ]
  },
  {
   "cell_type": "code",
   "execution_count": 31,
   "id": "7f28c3e5-acee-464b-a2fb-955291f1dc89",
   "metadata": {},
   "outputs": [],
   "source": [
    "random.shuffle(pair_data_t_3)\n",
    "with open(val_path_3 / \"info.txt\", \"w\") as f:\n",
    "    f.write(\"\\n\".join(\"\\t\".join(segments) for segments in pair_data_t_3))"
   ]
  },
  {
   "cell_type": "code",
   "execution_count": null,
   "id": "2c8fb6b9-981b-49c0-867c-2f6e701aa5ab",
   "metadata": {},
   "outputs": [],
   "source": []
  }
 ],
 "metadata": {
  "kernelspec": {
   "display_name": "Python 3 (ipykernel)",
   "language": "python",
   "name": "python3"
  },
  "language_info": {
   "codemirror_mode": {
    "name": "ipython",
    "version": 3
   },
   "file_extension": ".py",
   "mimetype": "text/x-python",
   "name": "python",
   "nbconvert_exporter": "python",
   "pygments_lexer": "ipython3",
   "version": "3.12.6"
  }
 },
 "nbformat": 4,
 "nbformat_minor": 5
}

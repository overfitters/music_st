{
 "cells": [
  {
   "cell_type": "markdown",
   "id": "1287aa6e-d57a-4102-a021-782853232ea0",
   "metadata": {},
   "source": [
    "# Replicating Audio Texture Synthesis (by Dimitry Ulyanov)\n",
    "- Original Source: [Ulyanov's Github](https://github.com/DmitryUlyanov/neural-style-audio-torch)\n",
    "- Article: [Ulyanov's Blog](https://dmitryulyanov.github.io/audio-texture-synthesis-and-style-transfer/)"
   ]
  },
  {
   "cell_type": "code",
   "execution_count": 1,
   "id": "99cb64a6-56ed-4c52-9dbc-ed684e9198d4",
   "metadata": {},
   "outputs": [],
   "source": [
    "import utils\n",
    "import librosa\n",
    "import matplotlib.pyplot as plt\n",
    "import numpy as np\n",
    "\n",
    "import importlib\n",
    "from pathlib import Path"
   ]
  },
  {
   "cell_type": "code",
   "execution_count": 2,
   "id": "9f5b165c-2984-4888-b6ad-0d7f394b5b92",
   "metadata": {},
   "outputs": [],
   "source": [
    "DATASET = Path(\"/home/slas3r/courses/dl/project/music_st/fma\")"
   ]
  },
  {
   "cell_type": "code",
   "execution_count": null,
   "id": "9a31965d-3a45-4fe7-adc5-2918e2303c3b",
   "metadata": {},
   "outputs": [],
   "source": [
    "tfile = DATASET / \"000/000002.mp3\""
   ]
  },
  {
   "cell_type": "code",
   "execution_count": null,
   "id": "03e036c0-7c20-42ce-aab1-ef278284a64c",
   "metadata": {},
   "outputs": [],
   "source": [
    "wave, sr = librosa.load(tfile)"
   ]
  },
  {
   "cell_type": "code",
   "execution_count": null,
   "id": "bd8332e1-5faa-41e5-b43b-eaaf66aa98ea",
   "metadata": {},
   "outputs": [],
   "source": [
    "fig = plt.figure(figsize=(10, 5))\n",
    "librosa.display.waveshow(wave)\n",
    "plt.show()"
   ]
  },
  {
   "cell_type": "markdown",
   "id": "8204ab64-184f-4a2e-ade1-4978e9e05c95",
   "metadata": {},
   "source": [
    "### STFT"
   ]
  },
  {
   "cell_type": "code",
   "execution_count": null,
   "id": "f2bfd793-5166-49df-b977-9caeae2fa969",
   "metadata": {},
   "outputs": [],
   "source": [
    "spectrum, phase = utils.stft_wave_to_spectrum(wave)"
   ]
  },
  {
   "cell_type": "code",
   "execution_count": null,
   "id": "59147d70-7b4b-4d98-b16d-ae9b97d11737",
   "metadata": {},
   "outputs": [],
   "source": [
    "spectrum.shape"
   ]
  },
  {
   "cell_type": "code",
   "execution_count": null,
   "id": "16e07433-4079-4331-91e8-61723615b8ec",
   "metadata": {},
   "outputs": [],
   "source": [
    "librosa.display.specshow(librosa.power_to_db(spectrum, ref=np.max), sr=sr, x_axis=\"time\", cmap=\"magma\")\n",
    "plt.colorbar(label=\"dB\")\n",
    "plt.title('STFT-Spectrogram', fontdict=dict(size=18))\n",
    "plt.xlabel('Time', fontdict=dict(size=15))\n",
    "plt.ylabel('Frequency', fontdict=dict(size=15))\n",
    "plt.show()"
   ]
  },
  {
   "cell_type": "code",
   "execution_count": null,
   "id": "5bbb8b71-7b20-4c60-a950-9c0bd00df03a",
   "metadata": {},
   "outputs": [],
   "source": [
    "reconstructed_wave = utils.stft_spectrum_to_wave(spectrum)"
   ]
  },
  {
   "cell_type": "code",
   "execution_count": null,
   "id": "f066bca2-efec-42d0-a401-d56d9ef121d7",
   "metadata": {},
   "outputs": [],
   "source": [
    "len(reconstructed_wave), len(wave)"
   ]
  },
  {
   "cell_type": "code",
   "execution_count": null,
   "id": "894b9849-7884-4f83-8266-f11dccd56c66",
   "metadata": {},
   "outputs": [],
   "source": [
    "fig = plt.figure(figsize=(10, 5))\n",
    "plt.plot(reconstructed_wave)\n",
    "plt.show()"
   ]
  },
  {
   "cell_type": "markdown",
   "id": "f0cba1c3-a2f7-48f0-adcd-00ac7856d295",
   "metadata": {},
   "source": [
    "# Mel Spectogram"
   ]
  },
  {
   "cell_type": "code",
   "execution_count": null,
   "id": "4e518967-8d7f-4ded-bd4f-36f6b6711ade",
   "metadata": {},
   "outputs": [],
   "source": [
    "importlib.reload(utils)"
   ]
  },
  {
   "cell_type": "code",
   "execution_count": null,
   "id": "e5da8a90-b60e-4925-9ebd-880d609303ce",
   "metadata": {},
   "outputs": [],
   "source": [
    "mel_specgram = utils.mel_wave_to_spectrum(wave, sr)\n",
    "power_to_db = librosa.power_to_db(mel_specgram, ref=np.max)\n",
    "plt.figure(figsize=(8, 7))\n",
    "librosa.display.specshow(power_to_db, sr=sr, x_axis=\"time\", y_axis=\"mel\", cmap=\"magma\")\n",
    "plt.colorbar(label=\"dB\")\n",
    "plt.title('Mel-Spectrogram (dB)', fontdict=dict(size=18))\n",
    "plt.xlabel('Time', fontdict=dict(size=15))\n",
    "plt.ylabel('Frequency', fontdict=dict(size=15))\n",
    "plt.show()"
   ]
  },
  {
   "cell_type": "code",
   "execution_count": null,
   "id": "5501c428-47da-439e-a48a-ece7618aeeb3",
   "metadata": {},
   "outputs": [],
   "source": [
    "reconstructed_wave_mel = utils.mel_spectrum_to_wave(mel_specgram, sr)"
   ]
  },
  {
   "cell_type": "code",
   "execution_count": null,
   "id": "22c26646-8b68-435b-9c0d-8cd6627bfbe4",
   "metadata": {},
   "outputs": [],
   "source": [
    "fig = plt.figure(figsize=(10, 5))\n",
    "librosa.display.waveshow(wave)\n",
    "plt.show()"
   ]
  },
  {
   "cell_type": "markdown",
   "id": "bb4a0bff-d507-48a4-84ae-1a9238397381",
   "metadata": {},
   "source": [
    "## Training"
   ]
  },
  {
   "cell_type": "code",
   "execution_count": 3,
   "id": "203b8e69-741a-4e04-95c1-f61c0cb24d52",
   "metadata": {},
   "outputs": [],
   "source": [
    "import model as model_m\n",
    "import torch\n",
    "from torch.autograd import Variable\n",
    "\n",
    "import time"
   ]
  },
  {
   "cell_type": "code",
   "execution_count": 4,
   "id": "c4b1149a-e78b-4f3c-8eca-464c35d92839",
   "metadata": {},
   "outputs": [],
   "source": [
    "device = torch.device(\"cuda\" if torch.cuda.is_available() else \"cpu\")"
   ]
  },
  {
   "cell_type": "code",
   "execution_count": 5,
   "id": "991669e0-2c78-46d4-8ab4-68d715eded29",
   "metadata": {},
   "outputs": [],
   "source": [
    "content_file = DATASET / \"056/056030.mp3\"\n",
    "style_file = DATASET / \"045/045101.mp3\""
   ]
  },
  {
   "cell_type": "code",
   "execution_count": 6,
   "id": "24511c99-5a73-456b-9338-f12408f8056c",
   "metadata": {},
   "outputs": [],
   "source": [
    "content_wave, content_sr = librosa.load(content_file)\n",
    "style_wave, style_sr = librosa.load(style_file)"
   ]
  },
  {
   "cell_type": "code",
   "execution_count": null,
   "id": "8fa3606d-9c52-4f76-a344-e690db7bf1fe",
   "metadata": {},
   "outputs": [],
   "source": [
    "method = \"stft\""
   ]
  },
  {
   "cell_type": "code",
   "execution_count": null,
   "id": "97696a7e-5f60-46ed-bc4e-235edf7b4ce2",
   "metadata": {},
   "outputs": [],
   "source": [
    "content_mat, content_phase = utils.stft_wave_to_spectrum(content_wave)\n",
    "style_mat, style_phase = utils.stft_wave_to_spectrum(style_wave)"
   ]
  },
  {
   "cell_type": "code",
   "execution_count": null,
   "id": "20573267-992f-4c9b-9c7a-7ad6f3c25690",
   "metadata": {},
   "outputs": [],
   "source": [
    "content_mat = torch.from_numpy(content_mat)[None, None, :, :].to(device)\n",
    "style_mat = torch.from_numpy(style_mat)[None, None, :, :].to(device)"
   ]
  },
  {
   "cell_type": "code",
   "execution_count": null,
   "id": "e00e3d73-be03-4609-92c4-43fda0ed1dd2",
   "metadata": {},
   "outputs": [],
   "source": [
    "content_mat.device"
   ]
  },
  {
   "cell_type": "code",
   "execution_count": null,
   "id": "bacd0e10-bbf9-4aed-b36e-2ff72501ea37",
   "metadata": {},
   "outputs": [],
   "source": [
    "model = model_m.RandomCNN()"
   ]
  },
  {
   "cell_type": "code",
   "execution_count": null,
   "id": "2dd80d99-cbd9-416f-8420-ee599f089010",
   "metadata": {},
   "outputs": [],
   "source": [
    "model.eval()"
   ]
  },
  {
   "cell_type": "code",
   "execution_count": null,
   "id": "9d70267f-9f67-4f5b-bd1f-f16815f7a80d",
   "metadata": {},
   "outputs": [],
   "source": [
    "model.to(device)"
   ]
  },
  {
   "cell_type": "code",
   "execution_count": null,
   "id": "a9e655a3-893d-4f63-a4ca-db1edf64089c",
   "metadata": {},
   "outputs": [],
   "source": [
    "a_C_var = Variable(content_mat, requires_grad=False).float().to(device)\n",
    "a_S_var = Variable(style_mat, requires_grad=False).float().to(device)"
   ]
  },
  {
   "cell_type": "code",
   "execution_count": null,
   "id": "1ec01192-5fdd-49d2-ba42-64fa7c7b6ebc",
   "metadata": {},
   "outputs": [],
   "source": [
    "a_C = model(a_C_var)\n",
    "a_S = model(a_S_var)"
   ]
  },
  {
   "cell_type": "code",
   "execution_count": null,
   "id": "1a8c2409-2cc2-40fb-8e5d-2880d4e1e47b",
   "metadata": {},
   "outputs": [],
   "source": [
    "lr = 0.002\n",
    "n_epochs = 20000\n",
    "content_weight = 1e2\n",
    "style_weight = 10"
   ]
  },
  {
   "cell_type": "code",
   "execution_count": null,
   "id": "7d62c1d8-95aa-417f-9017-73ab561e129c",
   "metadata": {},
   "outputs": [],
   "source": [
    "a_G_var = Variable(torch.randn(content_mat.shape) * 1e-3).to(device)\n",
    "a_G_var.requires_grad = True"
   ]
  },
  {
   "cell_type": "code",
   "execution_count": null,
   "id": "dd74dbbb-ad21-44f0-83ef-77298e9826d9",
   "metadata": {},
   "outputs": [],
   "source": [
    "optimizer = torch.optim.Adam([a_G_var])"
   ]
  },
  {
   "cell_type": "code",
   "execution_count": null,
   "id": "4b47a617-2ad0-4a3f-bf7b-5a7df0fd22c6",
   "metadata": {},
   "outputs": [],
   "source": [
    "c_loss = 0\n",
    "losses = []"
   ]
  },
  {
   "cell_type": "code",
   "execution_count": null,
   "id": "d4b3e161-7fbf-44c3-9500-c73dd2980929",
   "metadata": {},
   "outputs": [],
   "source": [
    "for ep in range(1, n_epochs + 1):\n",
    "    optimizer.zero_grad()\n",
    "    a_G = model(a_G_var)\n",
    "\n",
    "    content_loss = content_weight * utils.compute_content_loss(a_C, a_G)\n",
    "    style_loss = style_weight * utils.compute_layer_style_loss(a_S, a_G)\n",
    "    loss = content_loss + style_loss\n",
    "    loss.backward()\n",
    "    optimizer.step()\n",
    "    losses.append(loss.item())\n",
    "\n",
    "    if ep % 1000 == 0:\n",
    "        print(f\"[Epoch {ep}/{n_epochs}] content_loss: {content_loss:.4f} style_loss: {style_loss:.4f}\")"
   ]
  },
  {
   "cell_type": "code",
   "execution_count": null,
   "id": "9cd83650-0d8b-4dd9-93e5-88ee38cae1bc",
   "metadata": {},
   "outputs": [],
   "source": [
    "gen_spec = a_G_var.cpu().data.numpy().squeeze()\n",
    "gen_audio = utils.stft_spectrum_to_wave(gen_spec)"
   ]
  },
  {
   "cell_type": "code",
   "execution_count": null,
   "id": "e9a550c2-278f-43b2-8d6d-a329589174cf",
   "metadata": {},
   "outputs": [],
   "source": [
    "utils.writefile(f\"./gen_c_{method}_{content_weight}_{style_weight}_{content_file.parts[-1].split('.')[0]}_s{style_file.parts[-1].split('.')[0]}_{time.strftime(\"%m_%d_%H_%M_%S\")}.wav\", gen_audio, sr)"
   ]
  },
  {
   "cell_type": "code",
   "execution_count": null,
   "id": "2d9a0e97-6f38-4513-adbd-d4304295b4ea",
   "metadata": {},
   "outputs": [],
   "source": [
    "librosa.display.specshow(librosa.power_to_db(gen_spec, ref=np.max), sr=sr, x_axis=\"time\", cmap=\"magma\")\n",
    "plt.colorbar(label=\"dB\")\n",
    "plt.title('STFT-Spectrogram', fontdict=dict(size=18))\n",
    "plt.xlabel('Time', fontdict=dict(size=15))\n",
    "plt.ylabel('Frequency', fontdict=dict(size=15))\n",
    "plt.show()"
   ]
  },
  {
   "cell_type": "code",
   "execution_count": null,
   "id": "75225dab-864b-4dfc-a243-3f34d64e7fec",
   "metadata": {},
   "outputs": [],
   "source": [
    "plt.plot(losses)\n",
    "plt.show()"
   ]
  },
  {
   "cell_type": "markdown",
   "id": "95eb632d-099f-4fc6-bc48-37c19b66890b",
   "metadata": {},
   "source": [
    "### MEL"
   ]
  },
  {
   "cell_type": "code",
   "execution_count": null,
   "id": "eae927e6-3bcb-4460-9e24-f8eeffd4ec94",
   "metadata": {},
   "outputs": [],
   "source": [
    "method = \"mel\""
   ]
  },
  {
   "cell_type": "code",
   "execution_count": null,
   "id": "31d58e50-d78b-414d-9544-8773b2cce351",
   "metadata": {},
   "outputs": [],
   "source": [
    "content_mat = utils.mel_wave_to_spectrum(content_wave, content_sr)\n",
    "style_mat = utils.mel_wave_to_spectrum(style_wave, style_sr)\n",
    "content_mat = torch.from_numpy(content_mat)[None, None, :, :].to(device)\n",
    "style_mat = torch.from_numpy(style_mat)[None, None, :, :].to(device)"
   ]
  },
  {
   "cell_type": "code",
   "execution_count": null,
   "id": "733e68ff-6e95-4be8-841a-5d73cce653b4",
   "metadata": {},
   "outputs": [],
   "source": [
    "model = model_m.RandomCNN()\n",
    "model.eval()\n",
    "model.to(device)"
   ]
  },
  {
   "cell_type": "code",
   "execution_count": null,
   "id": "3f7e69b0-3810-4bfc-9305-0a75ec8a387b",
   "metadata": {},
   "outputs": [],
   "source": [
    "a_C_var = Variable(content_mat, requires_grad=False).float().to(device)\n",
    "a_S_var = Variable(style_mat, requires_grad=False).float().to(device)\n",
    "a_C = model(a_C_var)\n",
    "a_S = model(a_S_var)"
   ]
  },
  {
   "cell_type": "code",
   "execution_count": null,
   "id": "8a226ad5-b5dc-4d68-87fd-18d07cf971e4",
   "metadata": {},
   "outputs": [],
   "source": [
    "lr = 0.002\n",
    "n_epochs = 200000\n",
    "content_weight = 1e2\n",
    "style_weight = 10"
   ]
  },
  {
   "cell_type": "code",
   "execution_count": null,
   "id": "6e642d11-a640-4956-ae32-6c71ca582228",
   "metadata": {},
   "outputs": [],
   "source": [
    "a_G_var = Variable(torch.randn(content_mat.shape) * 1e-3).to(device)\n",
    "a_G_var.requires_grad = True"
   ]
  },
  {
   "cell_type": "code",
   "execution_count": null,
   "id": "442cbef0-a3e5-4660-b583-d3a2c80f139b",
   "metadata": {},
   "outputs": [],
   "source": [
    "optimizer = torch.optim.Adam([a_G_var])"
   ]
  },
  {
   "cell_type": "code",
   "execution_count": null,
   "id": "0c8230bd-14c8-4c97-a9ea-6d38e7503b4a",
   "metadata": {},
   "outputs": [],
   "source": [
    "c_loss = 0\n",
    "losses = []"
   ]
  },
  {
   "cell_type": "code",
   "execution_count": null,
   "id": "942ac161-7f6f-49f4-ae72-60a764ebcb0c",
   "metadata": {},
   "outputs": [],
   "source": [
    "for ep in range(1, n_epochs + 1):\n",
    "    optimizer.zero_grad()\n",
    "    a_G = model(a_G_var)\n",
    "\n",
    "    content_loss = content_weight * utils.compute_content_loss(a_C, a_G)\n",
    "    style_loss = style_weight * utils.compute_layer_style_loss(a_S, a_G)\n",
    "    loss = content_loss + style_loss\n",
    "    loss.backward()\n",
    "    optimizer.step()\n",
    "    losses.append(loss.item())\n",
    "\n",
    "    if ep % 1000 == 0:\n",
    "        print(f\"[Epoch {ep}/{n_epochs}] content_loss: {content_loss:.4f} style_loss: {style_loss:.4f}\")"
   ]
  },
  {
   "cell_type": "code",
   "execution_count": null,
   "id": "296019a4-267e-4de5-931c-885799ee4f46",
   "metadata": {},
   "outputs": [],
   "source": [
    "gen_spec = a_G_var.cpu().data.numpy().squeeze()\n",
    "gen_audio = utils.mel_spectrum_to_wave(gen_spec, content_sr)"
   ]
  },
  {
   "cell_type": "code",
   "execution_count": null,
   "id": "51a8da14-3717-40ab-b250-9eb5d05ee63e",
   "metadata": {},
   "outputs": [],
   "source": [
    "utils.writefile(f\"./gen_c_{method}_{content_weight}_{style_weight}_{content_file.parts[-1].split('.')[0]}_s{style_file.parts[-1].split('.')[0]}_{time.strftime(\"%m_%d_%H_%M_%S\")}.wav\", gen_audio, sr)"
   ]
  },
  {
   "cell_type": "code",
   "execution_count": null,
   "id": "a1d8c423-75f5-4a65-8dc9-0bb39db53fae",
   "metadata": {},
   "outputs": [],
   "source": [
    "librosa.display.specshow(librosa.power_to_db(gen_spec, ref=np.max), sr=sr, x_axis=\"time\", cmap=\"magma\")\n",
    "plt.colorbar(label=\"dB\")\n",
    "plt.title('MEL-Spectrogram', fontdict=dict(size=18))\n",
    "plt.xlabel('Time', fontdict=dict(size=15))\n",
    "plt.ylabel('Frequency', fontdict=dict(size=15))\n",
    "plt.show()"
   ]
  },
  {
   "cell_type": "code",
   "execution_count": null,
   "id": "facda17e-53c5-48d7-89e5-0c77627213fc",
   "metadata": {},
   "outputs": [],
   "source": [
    "plt.plot(losses)\n",
    "plt.show()"
   ]
  },
  {
   "cell_type": "code",
   "execution_count": null,
   "id": "859e868b-1e43-4118-a28b-4f1aeac038e4",
   "metadata": {},
   "outputs": [],
   "source": []
  }
 ],
 "metadata": {
  "kernelspec": {
   "display_name": "Python 3 (ipykernel)",
   "language": "python",
   "name": "python3"
  },
  "language_info": {
   "codemirror_mode": {
    "name": "ipython",
    "version": 3
   },
   "file_extension": ".py",
   "mimetype": "text/x-python",
   "name": "python",
   "nbconvert_exporter": "python",
   "pygments_lexer": "ipython3",
   "version": "3.12.6"
  }
 },
 "nbformat": 4,
 "nbformat_minor": 5
}

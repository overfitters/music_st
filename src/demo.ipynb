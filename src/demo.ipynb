{
 "cells": [
  {
   "cell_type": "code",
   "execution_count": 13,
   "id": "ee39cd56-b7ef-4173-9cc7-dc74f7c657e6",
   "metadata": {},
   "outputs": [],
   "source": [
    "from model import Experiment\n",
    "import torch\n",
    "import librosa\n",
    "import soundfile"
   ]
  },
  {
   "cell_type": "code",
   "execution_count": 3,
   "id": "65c9517d-c5aa-4aa3-a01a-092baae8d8de",
   "metadata": {},
   "outputs": [],
   "source": [
    "exp = Experiment(logdir=\"./logs/demo/\")"
   ]
  },
  {
   "cell_type": "code",
   "execution_count": 6,
   "id": "0e9f6bab-d25f-4aba-bddb-9744501b1472",
   "metadata": {},
   "outputs": [
    {
     "name": "stderr",
     "output_type": "stream",
     "text": [
      "/tmp/ipykernel_39742/4020688981.py:1: FutureWarning: You are using `torch.load` with `weights_only=False` (the current default value), which uses the default pickle module implicitly. It is possible to construct malicious pickle data which will execute arbitrary code during unpickling (See https://github.com/pytorch/pytorch/blob/main/SECURITY.md#untrusted-models for more details). In a future release, the default value for `weights_only` will be flipped to `True`. This limits the functions that could be executed during unpickling. Arbitrary objects will no longer be allowed to be loaded via this mode unless they are explicitly allowlisted by the user via `torch.serialization.add_safe_globals`. We recommend you start setting `weights_only=True` for any use case where you don't have full control of the loaded file. Please open an issue on GitHub for any issues related to this experimental feature.\n",
      "  exp.model.load_state_dict(torch.load('./logs/model_state.pt', map_location=exp.device))\n"
     ]
    },
    {
     "data": {
      "text/plain": [
       "<All keys matched successfully>"
      ]
     },
     "execution_count": 6,
     "metadata": {},
     "output_type": "execute_result"
    }
   ],
   "source": [
    "exp.model.load_state_dict(torch.load('./logs/model_state.pt', map_location=exp.device))"
   ]
  },
  {
   "cell_type": "code",
   "execution_count": 7,
   "id": "0b712439-abdd-4914-a6ca-cf81d9ea9385",
   "metadata": {},
   "outputs": [
    {
     "data": {
      "text/plain": [
       "Model(\n",
       "  (content_encoder): Sequential(\n",
       "    (0): Conv1d(1025, 1024, kernel_size=(4,), stride=(2,), padding=(2,))\n",
       "    (1): BatchNorm1d(1024, eps=1e-05, momentum=0.1, affine=True, track_running_stats=True)\n",
       "    (2): LeakyReLU(negative_slope=0.1)\n",
       "    (3): Conv1d(1024, 1024, kernel_size=(4,), stride=(2,), padding=(2,))\n",
       "    (4): ResidualWrapper(\n",
       "      (module): Sequential(\n",
       "        (0): BatchNorm1d(1024, eps=1e-05, momentum=0.1, affine=True, track_running_stats=True)\n",
       "        (1): LeakyReLU(negative_slope=0.1)\n",
       "        (2): Conv1d(1024, 1024, kernel_size=(1,), stride=(1,))\n",
       "      )\n",
       "    )\n",
       "    (5): BatchNorm1d(1024, eps=1e-05, momentum=0.1, affine=True, track_running_stats=True)\n",
       "  )\n",
       "  (vq): VQEmbedding(\n",
       "    (embedding): Embedding(2048, 1024)\n",
       "  )\n",
       "  (style_encoder_1d): Sequential(\n",
       "    (0): Conv1d(1025, 1024, kernel_size=(4,), stride=(2,))\n",
       "    (1): ResidualWrapper(\n",
       "      (module): Sequential(\n",
       "        (0): BatchNorm1d(1024, eps=1e-05, momentum=0.1, affine=True, track_running_stats=True)\n",
       "        (1): LeakyReLU(negative_slope=0.1)\n",
       "        (2): Conv1d(1024, 1024, kernel_size=(1,), stride=(1,))\n",
       "      )\n",
       "    )\n",
       "    (2): BatchNorm1d(1024, eps=1e-05, momentum=0.1, affine=True, track_running_stats=True)\n",
       "    (3): LeakyReLU(negative_slope=0.1)\n",
       "  )\n",
       "  (style_encoder_rnn): GRU(1024, 1024, batch_first=True)\n",
       "  (style_encoder_0d): Sequential()\n",
       "  (decoder_modules): ModuleList(\n",
       "    (0): Sequential(\n",
       "      (0): BatchNorm1d(2048, eps=1e-05, momentum=0.1, affine=True, track_running_stats=True)\n",
       "      (1): LeakyReLU(negative_slope=0.1)\n",
       "      (2): ConvTranspose1d(2048, 1024, kernel_size=(1,), stride=(1,))\n",
       "      (3): ResidualWrapper(\n",
       "        (module): Sequential(\n",
       "          (0): BatchNorm1d(1024, eps=1e-05, momentum=0.1, affine=True, track_running_stats=True)\n",
       "          (1): LeakyReLU(negative_slope=0.1)\n",
       "          (2): RNNWrapper(\n",
       "            (rnn): GRU(1024, 1024, batch_first=True)\n",
       "          )\n",
       "        )\n",
       "      )\n",
       "      (4): BatchNorm1d(1024, eps=1e-05, momentum=0.1, affine=True, track_running_stats=True)\n",
       "      (5): LeakyReLU(negative_slope=0.1)\n",
       "      (6): ConvTranspose1d(1024, 1024, kernel_size=(4,), stride=(2,), padding=(2,), output_padding=(1,))\n",
       "    )\n",
       "    (1): Sequential(\n",
       "      (0): BatchNorm1d(2048, eps=1e-05, momentum=0.1, affine=True, track_running_stats=True)\n",
       "      (1): LeakyReLU(negative_slope=0.1)\n",
       "      (2): ConvTranspose1d(2048, 1024, kernel_size=(1,), stride=(1,))\n",
       "      (3): ResidualWrapper(\n",
       "        (module): Sequential(\n",
       "          (0): BatchNorm1d(1024, eps=1e-05, momentum=0.1, affine=True, track_running_stats=True)\n",
       "          (1): LeakyReLU(negative_slope=0.1)\n",
       "          (2): RNNWrapper(\n",
       "            (rnn): GRU(1024, 1024, batch_first=True)\n",
       "          )\n",
       "        )\n",
       "      )\n",
       "      (4): BatchNorm1d(1024, eps=1e-05, momentum=0.1, affine=True, track_running_stats=True)\n",
       "      (5): LeakyReLU(negative_slope=0.1)\n",
       "      (6): ConvTranspose1d(1024, 1024, kernel_size=(4,), stride=(2,), padding=(2,), output_padding=(1,))\n",
       "      (7): BatchNorm1d(1024, eps=1e-05, momentum=0.1, affine=True, track_running_stats=True)\n",
       "      (8): LeakyReLU(negative_slope=0.1)\n",
       "      (9): ConvTranspose1d(1024, 1025, kernel_size=(1,), stride=(1,))\n",
       "      (10): ResidualWrapper(\n",
       "        (module): Sequential(\n",
       "          (0): BatchNorm1d(1025, eps=1e-05, momentum=0.1, affine=True, track_running_stats=True)\n",
       "          (1): LeakyReLU(negative_slope=0.1)\n",
       "          (2): RNNWrapper(\n",
       "            (rnn): GRU(1025, 1025, batch_first=True)\n",
       "          )\n",
       "        )\n",
       "      )\n",
       "      (11): ReLU()\n",
       "    )\n",
       "  )\n",
       ")"
      ]
     },
     "execution_count": 7,
     "metadata": {},
     "output_type": "execute_result"
    }
   ],
   "source": [
    "exp.model.train(False)"
   ]
  },
  {
   "cell_type": "code",
   "execution_count": 15,
   "id": "eed03d27-9a91-499a-91c2-608882c7721d",
   "metadata": {},
   "outputs": [],
   "source": [
    "a_content, _ = librosa.load(\"./content.mp3\", sr=exp.sr)\n",
    "a_style, _ = librosa.load(\"./style.mp3\", sr=exp.sr)"
   ]
  },
  {
   "cell_type": "code",
   "execution_count": 16,
   "id": "4b218ce7-b916-459f-81b7-04b917f9e767",
   "metadata": {},
   "outputs": [],
   "source": [
    "s_content = torch.as_tensor(exp.preprocess(a_content), device=exp.device)[None, :]\n",
    "s_style = torch.as_tensor(exp.preprocess(a_style), device=exp.device)[None, :]\n",
    "l_content, l_style = (torch.as_tensor([x.shape[2]], device=exp.device) for x in [s_content, s_style])\n",
    "with torch.no_grad():\n",
    "    s_output = exp.model(input_c=s_content, input_s=s_style,\n",
    "                         length_c=l_content, length_s=l_style)\n",
    "a_output = exp.postprocess(s_output.cpu().numpy()[0])"
   ]
  },
  {
   "cell_type": "code",
   "execution_count": 26,
   "id": "37aae060-9022-41de-9589-3073915a402c",
   "metadata": {},
   "outputs": [],
   "source": [
    "soundfile.write(\"inf_out.mp3\", a_output * 20, exp.sr)"
   ]
  },
  {
   "cell_type": "code",
   "execution_count": 27,
   "id": "43c37770-50c7-4eac-be98-6b862e65197f",
   "metadata": {},
   "outputs": [
    {
     "ename": "TypeError",
     "evalue": "Cannot interpret 'torch.float32' as a data type",
     "output_type": "error",
     "traceback": [
      "\u001b[0;31m---------------------------------------------------------------------------\u001b[0m",
      "\u001b[0;31mTypeError\u001b[0m                                 Traceback (most recent call last)",
      "Cell \u001b[0;32mIn[27], line 1\u001b[0m\n\u001b[0;32m----> 1\u001b[0m \u001b[43mlibrosa\u001b[49m\u001b[38;5;241;43m.\u001b[39;49m\u001b[43mdisplay\u001b[49m\u001b[38;5;241;43m.\u001b[39;49m\u001b[43mspecshow\u001b[49m\u001b[43m(\u001b[49m\u001b[43ms_content\u001b[49m\u001b[43m)\u001b[49m\n",
      "File \u001b[0;32m~/courses/dl/project/music_st/.venv/lib/python3.12/site-packages/librosa/display.py:1181\u001b[0m, in \u001b[0;36mspecshow\u001b[0;34m(data, x_coords, y_coords, x_axis, y_axis, sr, hop_length, n_fft, win_length, fmin, fmax, tempo_min, tempo_max, tuning, bins_per_octave, key, Sa, mela, thaat, auto_aspect, htk, unicode, intervals, unison, ax, **kwargs)\u001b[0m\n\u001b[1;32m    924\u001b[0m \u001b[38;5;28;01mdef\u001b[39;00m \u001b[38;5;21mspecshow\u001b[39m(\n\u001b[1;32m    925\u001b[0m     data: np\u001b[38;5;241m.\u001b[39mndarray,\n\u001b[1;32m    926\u001b[0m     \u001b[38;5;241m*\u001b[39m,\n\u001b[0;32m   (...)\u001b[0m\n\u001b[1;32m    951\u001b[0m     \u001b[38;5;241m*\u001b[39m\u001b[38;5;241m*\u001b[39mkwargs: Any,\n\u001b[1;32m    952\u001b[0m ) \u001b[38;5;241m-\u001b[39m\u001b[38;5;241m>\u001b[39m QuadMesh:\n\u001b[1;32m    953\u001b[0m \u001b[38;5;250m    \u001b[39m\u001b[38;5;124;03m\"\"\"Display a spectrogram/chromagram/cqt/etc.\u001b[39;00m\n\u001b[1;32m    954\u001b[0m \n\u001b[1;32m    955\u001b[0m \u001b[38;5;124;03m    For a detailed overview of this function, see :ref:`sphx_glr_auto_examples_plot_display.py`\u001b[39;00m\n\u001b[0;32m   (...)\u001b[0m\n\u001b[1;32m   1179\u001b[0m \u001b[38;5;124;03m    >>> fig.colorbar(img, ax=ax, format=\"%+2.f dB\")\u001b[39;00m\n\u001b[1;32m   1180\u001b[0m \u001b[38;5;124;03m    \"\"\"\u001b[39;00m\n\u001b[0;32m-> 1181\u001b[0m     \u001b[38;5;28;01mif\u001b[39;00m \u001b[43mnp\u001b[49m\u001b[38;5;241;43m.\u001b[39;49m\u001b[43missubdtype\u001b[49m\u001b[43m(\u001b[49m\u001b[43mdata\u001b[49m\u001b[38;5;241;43m.\u001b[39;49m\u001b[43mdtype\u001b[49m\u001b[43m,\u001b[49m\u001b[43m \u001b[49m\u001b[43mnp\u001b[49m\u001b[38;5;241;43m.\u001b[39;49m\u001b[43mcomplexfloating\u001b[49m\u001b[43m)\u001b[49m:\n\u001b[1;32m   1182\u001b[0m         warnings\u001b[38;5;241m.\u001b[39mwarn(\n\u001b[1;32m   1183\u001b[0m             \u001b[38;5;124m\"\u001b[39m\u001b[38;5;124mTrying to display complex-valued input. \u001b[39m\u001b[38;5;124m\"\u001b[39m \u001b[38;5;124m\"\u001b[39m\u001b[38;5;124mShowing magnitude instead.\u001b[39m\u001b[38;5;124m\"\u001b[39m,\n\u001b[1;32m   1184\u001b[0m             stacklevel\u001b[38;5;241m=\u001b[39m\u001b[38;5;241m2\u001b[39m,\n\u001b[1;32m   1185\u001b[0m         )\n\u001b[1;32m   1186\u001b[0m         data \u001b[38;5;241m=\u001b[39m np\u001b[38;5;241m.\u001b[39mabs(data)\n",
      "File \u001b[0;32m~/courses/dl/project/music_st/.venv/lib/python3.12/site-packages/numpy/_core/numerictypes.py:529\u001b[0m, in \u001b[0;36missubdtype\u001b[0;34m(arg1, arg2)\u001b[0m\n\u001b[1;32m    472\u001b[0m \u001b[38;5;250m\u001b[39m\u001b[38;5;124mr\u001b[39m\u001b[38;5;124;03m\"\"\"\u001b[39;00m\n\u001b[1;32m    473\u001b[0m \u001b[38;5;124;03mReturns True if first argument is a typecode lower/equal in type hierarchy.\u001b[39;00m\n\u001b[1;32m    474\u001b[0m \n\u001b[0;32m   (...)\u001b[0m\n\u001b[1;32m    526\u001b[0m \n\u001b[1;32m    527\u001b[0m \u001b[38;5;124;03m\"\"\"\u001b[39;00m\n\u001b[1;32m    528\u001b[0m \u001b[38;5;28;01mif\u001b[39;00m \u001b[38;5;129;01mnot\u001b[39;00m issubclass_(arg1, generic):\n\u001b[0;32m--> 529\u001b[0m     arg1 \u001b[38;5;241m=\u001b[39m \u001b[43mdtype\u001b[49m\u001b[43m(\u001b[49m\u001b[43marg1\u001b[49m\u001b[43m)\u001b[49m\u001b[38;5;241m.\u001b[39mtype\n\u001b[1;32m    530\u001b[0m \u001b[38;5;28;01mif\u001b[39;00m \u001b[38;5;129;01mnot\u001b[39;00m issubclass_(arg2, generic):\n\u001b[1;32m    531\u001b[0m     arg2 \u001b[38;5;241m=\u001b[39m dtype(arg2)\u001b[38;5;241m.\u001b[39mtype\n",
      "\u001b[0;31mTypeError\u001b[0m: Cannot interpret 'torch.float32' as a data type"
     ]
    }
   ],
   "source": [
    "librosa.display.specshow(s_content.cpu)"
   ]
  },
  {
   "cell_type": "code",
   "execution_count": null,
   "id": "73cb09ad-16d3-4d5b-bb5f-cd6803b92e02",
   "metadata": {},
   "outputs": [],
   "source": []
  }
 ],
 "metadata": {
  "kernelspec": {
   "display_name": "Python 3 (ipykernel)",
   "language": "python",
   "name": "python3"
  },
  "language_info": {
   "codemirror_mode": {
    "name": "ipython",
    "version": 3
   },
   "file_extension": ".py",
   "mimetype": "text/x-python",
   "name": "python",
   "nbconvert_exporter": "python",
   "pygments_lexer": "ipython3",
   "version": "3.12.6"
  }
 },
 "nbformat": 4,
 "nbformat_minor": 5
}

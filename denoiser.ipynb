{
 "cells": [
  {
   "cell_type": "code",
   "execution_count": 1,
   "metadata": {},
   "outputs": [],
   "source": [
    "import numpy as np\n",
    "import pywt\n",
    "import soundfile\n",
    "from tqdm import tqdm"
   ]
  },
  {
   "cell_type": "code",
   "execution_count": 3,
   "metadata": {},
   "outputs": [
    {
     "name": "stderr",
     "output_type": "stream",
     "text": [
      "0it [00:00, ?it/s][src/libmpg123/layer3.c:INT123_do_layer3():1773] error: part2_3_length (1376) too large for available bit count (1352)\n",
      "[src/libmpg123/layer3.c:INT123_do_layer3():1773] error: part2_3_length (992) too large for available bit count (936)\n",
      "[src/libmpg123/layer3.c:INT123_do_layer3():1773] error: part2_3_length (1024) too large for available bit count (936)\n",
      "[src/libmpg123/layer3.c:INT123_do_layer3():1773] error: part2_3_length (1376) too large for available bit count (1352)\n",
      "8it [00:00, 79.53it/s][src/libmpg123/layer3.c:INT123_do_layer3():1773] error: part2_3_length (992) too large for available bit count (936)\n",
      "10it [00:00, 91.02it/s]\n"
     ]
    }
   ],
   "source": [
    "def median_abs_derivation(arr):\n",
    "    \"\"\" Median Absolute Deviation: a \"Robust\" version of standard deviation.\n",
    "        Indices variability of the sample.\n",
    "    \"\"\"\n",
    "    arr = np.ma.array(arr).compressed()\n",
    "    med = np.median(arr)\n",
    "    return np.median(np.abs(arr - med))\n",
    "\n",
    "\n",
    "class AudioDeNoise:\n",
    "    \"\"\"\n",
    "    Class to de-noise the audio signal. The audio file is read in chunks and processed,\n",
    "    cleaned and appended to the output file..\n",
    "\n",
    "    It can de-noise multiple channels, any sized file, formats supported by soundfile\n",
    "\n",
    "    Wavelets used ::\n",
    "        Daubechies 4 : db4\n",
    "        Level : decided by pyWavelets\n",
    "\n",
    "    Attributes\n",
    "    ----------\n",
    "    __inputFile : str\n",
    "        name of the input audio file\n",
    "    \"\"\"\n",
    "\n",
    "    def __init__(self, inputFile):\n",
    "        self.__inputFile = inputFile\n",
    "        self.__noiseProfile = None\n",
    "\n",
    "    def deNoise(self, outputFile):\n",
    "        \"\"\"\n",
    "        De-noising function that reads the audio signal in chunks and processes\n",
    "        and writes to the output file efficiently.\n",
    "\n",
    "        VISU Shrink is used to generate the noise threshold\n",
    "\n",
    "        Parameters\n",
    "        ----------\n",
    "        outputFile : str\n",
    "            de-noised file name\n",
    "\n",
    "        \"\"\"\n",
    "        info = soundfile.info(self.__inputFile)  # getting info of the audio\n",
    "        rate = info.samplerate\n",
    "\n",
    "        with soundfile.SoundFile(outputFile, \"w\", samplerate=rate, channels=info.channels) as of:\n",
    "            for block in tqdm(soundfile.blocks(self.__inputFile, int(rate * info.duration * 0.10))):\n",
    "                coefficients = pywt.wavedec(block, 'db4', mode='per', level=2)\n",
    "\n",
    "                #  getting variance of the input signal\n",
    "                sigma = median_abs_derivation(coefficients[- 1])\n",
    "\n",
    "                # VISU Shrink thresholding by applying the universal threshold proposed by Donoho and Johnstone\n",
    "                thresh = sigma * np.sqrt(2 * np.log(len(block)))\n",
    "\n",
    "                # thresholding using the noise threshold generated\n",
    "                coefficients[1:] = (pywt.threshold(i, value=thresh, mode='soft') for i in coefficients[1:])\n",
    "\n",
    "                # getting the clean signal as in original form and writing to the file\n",
    "                clean = pywt.waverec(coefficients, 'db4', mode='per')\n",
    "                of.write(clean)\n",
    "\n",
    "#denoising a file\n",
    "audioDenoiser = AudioDeNoise(\"/Users/lizawahi/Downloads/pretrained.mp3\")\n",
    "audioDenoiser.deNoise(\"denoised_pretrained.wav\")\n",
    "#audioDenoiser.generateNoiseProfile(\"/Users/lizawahi/Downloads/pretrained.mp3\")"
   ]
  }
 ],
 "metadata": {
  "kernelspec": {
   "display_name": "dl",
   "language": "python",
   "name": "python3"
  },
  "language_info": {
   "codemirror_mode": {
    "name": "ipython",
    "version": 3
   },
   "file_extension": ".py",
   "mimetype": "text/x-python",
   "name": "python",
   "nbconvert_exporter": "python",
   "pygments_lexer": "ipython3",
   "version": "3.13.0"
  }
 },
 "nbformat": 4,
 "nbformat_minor": 2
}
